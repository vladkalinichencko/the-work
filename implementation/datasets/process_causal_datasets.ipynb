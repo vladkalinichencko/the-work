{
 "cells": [
  {
   "cell_type": "markdown",
   "id": "47f76402",
   "metadata": {},
   "source": [
    "# Process Causal Datasets: ATOMIC and Causal News Corpus\n",
    "\n",
    "This notebook loads and processes two different causality datasets:\n",
    "1. **ATOMIC**: Extracts cause (event) and effect pairs.\n",
    "2. **Causal News Corpus (CNC)**: Extracts cause and effect spans from news sentences."
   ]
  },
  {
   "cell_type": "code",
   "execution_count": 13,
   "id": "baeda1b3",
   "metadata": {},
   "outputs": [
    {
     "name": "stdout",
     "output_type": "stream",
     "text": [
      "Atomic input: /Users/vladislavkalinichenko/VSCodeProjects/SMILES_my_research/implementation/datasets/Atomic Data/v4_atomic_all_agg.csv\n",
      "CNC ST1 Train input: /Users/vladislavkalinichenko/VSCodeProjects/SMILES_my_research/implementation/datasets/CausalNewsCorpus-master/data/V2/train_subtask1.csv\n",
      "CNC ST1 Dev input: /Users/vladislavkalinichenko/VSCodeProjects/SMILES_my_research/implementation/datasets/CausalNewsCorpus-master/data/V2/dev_subtask1.csv\n",
      "CNC ST2 Train input: /Users/vladislavkalinichenko/VSCodeProjects/SMILES_my_research/implementation/datasets/CausalNewsCorpus-master/data/V2/train_subtask2_grouped.csv\n",
      "CNC ST2 Dev input: /Users/vladislavkalinichenko/VSCodeProjects/SMILES_my_research/implementation/datasets/CausalNewsCorpus-master/data/V2/dev_subtask2_grouped.csv\n",
      "Atomic output: /Users/vladislavkalinichenko/VSCodeProjects/SMILES_my_research/implementation/datasets/atomic_causal_pairs.csv\n",
      "CNC output: /Users/vladislavkalinichenko/VSCodeProjects/SMILES_my_research/implementation/datasets/cnc_causal_pairs.csv\n"
     ]
    }
   ],
   "source": [
    "import pandas as pd\n",
    "import json\n",
    "import os\n",
    "import ast # For safely evaluating string literals like lists/dicts\n",
    "import re\n",
    "\n",
    "# Define base path relative to the notebook location\n",
    "base_path = os.path.dirname(os.path.abspath('__file__')) # Gets the directory of the notebook\n",
    "\n",
    "# Define input file paths\n",
    "atomic_file = os.path.join(base_path, 'Atomic Data', 'v4_atomic_all_agg.csv')\n",
    "cnc_st1_train_file = os.path.join(base_path, 'CausalNewsCorpus-master', 'data', 'V2', 'train_subtask1.csv')\n",
    "cnc_st1_dev_file = os.path.join(base_path, 'CausalNewsCorpus-master', 'data', 'V2', 'dev_subtask1.csv')\n",
    "cnc_st2_train_file = os.path.join(base_path, 'CausalNewsCorpus-master', 'data', 'V2', 'train_subtask2_grouped.csv')\n",
    "cnc_st2_dev_file = os.path.join(base_path, 'CausalNewsCorpus-master', 'data', 'V2', 'dev_subtask2_grouped.csv')\n",
    "\n",
    "# Define output file paths\n",
    "output_atomic_csv = os.path.join(base_path, 'atomic_causal_pairs.csv')\n",
    "output_cnc_csv = os.path.join(base_path, 'cnc_causal_pairs.csv')\n",
    "\n",
    "print(f\"Atomic input: {atomic_file}\")\n",
    "print(f\"CNC ST1 Train input: {cnc_st1_train_file}\")\n",
    "print(f\"CNC ST1 Dev input: {cnc_st1_dev_file}\")\n",
    "print(f\"CNC ST2 Train input: {cnc_st2_train_file}\")\n",
    "print(f\"CNC ST2 Dev input: {cnc_st2_dev_file}\")\n",
    "print(f\"Atomic output: {output_atomic_csv}\")\n",
    "print(f\"CNC output: {output_cnc_csv}\")"
   ]
  },
  {
   "cell_type": "markdown",
   "id": "5e22ace3",
   "metadata": {},
   "source": [
    "## 1. Process ATOMIC Dataset"
   ]
  },
  {
   "cell_type": "code",
   "execution_count": 17,
   "id": "74219e40",
   "metadata": {},
   "outputs": [
    {
     "name": "stdout",
     "output_type": "stream",
     "text": [
      "Loaded ATOMIC data: 24312 rows\n",
      "Saved enriched ATOMIC data to /Users/vladislavkalinichenko/VSCodeProjects/SMILES_my_research/implementation/datasets/atomic_causal_pairs.csv: 135416 pairs\n"
     ]
    },
    {
     "data": {
      "application/vnd.microsoft.datawrangler.viewer.v0+json": {
       "columns": [
        {
         "name": "index",
         "rawType": "int64",
         "type": "integer"
        },
        {
         "name": "cause",
         "rawType": "object",
         "type": "string"
        },
        {
         "name": "effect",
         "rawType": "object",
         "type": "string"
        }
       ],
       "conversionMethod": "pd.DataFrame",
       "ref": "48ffd2e7-ef9a-4d20-b485-d8a965d3a356",
       "rows": [
        [
         "0",
         "Rex 'd better go",
         "leaves"
        ],
        [
         "1",
         "Rex 'd better go",
         "She finally made it"
        ],
        [
         "2",
         "Rex 'd better go",
         "runs away"
        ],
        [
         "3",
         "Rex 'd better go",
         "She ran to the bathroom"
        ],
        [
         "4",
         "Ethan abandons contract altogether",
         "Begins the process of change"
        ]
       ],
       "shape": {
        "columns": 2,
        "rows": 5
       }
      },
      "text/html": [
       "<div>\n",
       "<style scoped>\n",
       "    .dataframe tbody tr th:only-of-type {\n",
       "        vertical-align: middle;\n",
       "    }\n",
       "\n",
       "    .dataframe tbody tr th {\n",
       "        vertical-align: top;\n",
       "    }\n",
       "\n",
       "    .dataframe thead th {\n",
       "        text-align: right;\n",
       "    }\n",
       "</style>\n",
       "<table border=\"1\" class=\"dataframe\">\n",
       "  <thead>\n",
       "    <tr style=\"text-align: right;\">\n",
       "      <th></th>\n",
       "      <th>cause</th>\n",
       "      <th>effect</th>\n",
       "    </tr>\n",
       "  </thead>\n",
       "  <tbody>\n",
       "    <tr>\n",
       "      <th>0</th>\n",
       "      <td>Rex 'd better go</td>\n",
       "      <td>leaves</td>\n",
       "    </tr>\n",
       "    <tr>\n",
       "      <th>1</th>\n",
       "      <td>Rex 'd better go</td>\n",
       "      <td>She finally made it</td>\n",
       "    </tr>\n",
       "    <tr>\n",
       "      <th>2</th>\n",
       "      <td>Rex 'd better go</td>\n",
       "      <td>runs away</td>\n",
       "    </tr>\n",
       "    <tr>\n",
       "      <th>3</th>\n",
       "      <td>Rex 'd better go</td>\n",
       "      <td>She ran to the bathroom</td>\n",
       "    </tr>\n",
       "    <tr>\n",
       "      <th>4</th>\n",
       "      <td>Ethan abandons contract altogether</td>\n",
       "      <td>Begins the process of change</td>\n",
       "    </tr>\n",
       "  </tbody>\n",
       "</table>\n",
       "</div>"
      ],
      "text/plain": [
       "                                cause                        effect\n",
       "0                    Rex 'd better go                        leaves\n",
       "1                    Rex 'd better go           She finally made it\n",
       "2                    Rex 'd better go                     runs away\n",
       "3                    Rex 'd better go       She ran to the bathroom\n",
       "4  Ethan abandons contract altogether  Begins the process of change"
      ]
     },
     "metadata": {},
     "output_type": "display_data"
    }
   ],
   "source": [
    "import random\n",
    "names = [ 'Alice', 'Bob', 'Charlie', 'Diana', 'Eve', 'Frank', 'Grace', 'Heidi', 'Ivan', 'Judy', 'Kevin', 'Laura', 'Mallory', 'Niaj', 'Olivia', 'Peggy', 'Quentin', 'Rita', 'Sybil', 'Trent', 'Uma', 'Victor', 'Wendy', 'Xavier', 'Yasmine', 'Zane', 'Aaron', 'Bianca', 'Carter', 'Delia', 'Ethan', 'Fiona', 'Gavin', 'Holly', 'Isabel', 'Jack', 'Kara', 'Liam', 'Mona', 'Nolan', 'Oscar', 'Paula', 'Quinn', 'Ralph', 'Sophie', 'Tina', 'Ursula', 'Vince', 'Will', 'Xena', 'Yuri', 'Zoey', 'Amber', 'Blake', 'Cleo', 'Derek', 'Elsa', 'Felix', 'Gina', 'Hank', 'Ivy', 'Jonas', 'Kelsey', 'Lars', 'Mira', 'Nate', 'Opal', 'Perry', 'Quincy', 'Rosa', 'Sam', 'Tara', 'Ulric', 'Vera', 'Wade', 'Ximena', 'Yosef', 'Zelda', 'Aiden', 'Brielle', 'Colin', 'Daisy', 'Emil', 'Freya', 'Gage', 'Hazel', 'Iris', 'Jasper', 'Kian', 'Lila', 'Myles', 'Nina', 'Omar', 'Pia', 'Rex', 'Sage', 'Toby', 'Una', 'Violet', 'Wyatt' ]\n",
    "\n",
    "fillers = [ 'computer', 'plan', 'idea', 'project', 'device', 'solution', 'resource', 'tool', 'book', 'car', 'phone', 'strategy', 'document', 'report', 'presentation', 'email', 'message', 'gift', 'letter', 'assignment', 'recipe', 'map', 'key', 'password', 'ticket', 'invitation', 'contract', 'agreement', 'proposal', 'schedule', 'appointment', 'meeting', 'task', 'goal', 'challenge', 'opportunity', 'problem', 'question', 'answer', 'result', 'experiment', 'test', 'survey', 'analysis', 'review', 'summary', 'outline', 'draft', 'plan', 'blueprint', 'formula', 'method', 'procedure', 'routine', 'habit', 'custom', 'tradition', 'rule', 'law', 'policy', 'principle', 'value', 'belief', 'dream', 'wish', 'hope', 'ambition', 'desire', 'intention', 'purpose', 'mission', 'vision', 'target', 'objective', 'aim', 'priority', 'focus', 'theme', 'topic', 'subject', 'concept', 'notion', 'thought', 'memory', 'experience', 'event', 'incident', 'accident', 'story', 'tale', 'joke', 'anecdote', 'remark', 'comment', 'statement', 'declaration', 'announcement', 'notice', 'warning', 'alert' ]\n",
    "\n",
    "# Load ATOMIC data\n",
    "try:\n",
    "    atomic_df = pd.read_csv(atomic_file)\n",
    "    print(f\"Loaded ATOMIC data: {atomic_df.shape[0]} rows\")\n",
    "except FileNotFoundError:\n",
    "    print(f\"Error: ATOMIC file not found at {atomic_file}\")\n",
    "    atomic_df = None\n",
    "\n",
    "if atomic_df is not None:\n",
    "    # Columns containing effect annotations\n",
    "    effect_columns = ['oEffect', 'xEffect']\n",
    "\n",
    "    # Function to safely parse JSON-like lists\n",
    "    def safe_json_loads(x):\n",
    "        if isinstance(x, list):\n",
    "            return x\n",
    "        if isinstance(x, str) and x.startswith('[') and x.endswith(']'):\n",
    "            try:\n",
    "                return ast.literal_eval(x)\n",
    "            except:\n",
    "                try:\n",
    "                    return json.loads(x)\n",
    "                except:\n",
    "                    return []\n",
    "        return []\n",
    "\n",
    "    # Parse JSON lists in effect columns\n",
    "    for col in effect_columns:\n",
    "        if col in atomic_df.columns:\n",
    "            atomic_df[col] = atomic_df[col].apply(safe_json_loads)\n",
    "    # Parse prefix column if available\n",
    "    if 'prefix' in atomic_df.columns:\n",
    "        atomic_df['prefix'] = atomic_df['prefix'].apply(safe_json_loads)\n",
    "\n",
    "    # Create list to store processed data\n",
    "    atomic_processed = []\n",
    "\n",
    "    # Iterate through the dataframe\n",
    "    for index, row in atomic_df.iterrows():\n",
    "        raw_event = row['event']\n",
    "        # Shuffle names for each row\n",
    "        shuffled_names = names.copy()\n",
    "        random.shuffle(shuffled_names)\n",
    "        nameX = shuffled_names[0]\n",
    "        nameY = shuffled_names[1] if len(shuffled_names) > 1 else shuffled_names[0]\n",
    "        filler = random.choice(fillers)\n",
    "        event_filled = raw_event.replace('PersonX', nameX).replace('PersonY', nameY)\n",
    "        cause = event_filled.replace('___', filler)\n",
    "        # Заменяем имена и в эффектах\n",
    "        for col in effect_columns:\n",
    "            if col in row and isinstance(row[col], list):\n",
    "                valid_effects = [e for e in row[col] if isinstance(e, str) and e.lower() != 'none' and e.strip()]\n",
    "                for effect in set(valid_effects):\n",
    "                    effect_filled = effect.replace('PersonX', nameX).replace('PersonY', nameY).replace('___', filler)\n",
    "                    atomic_processed.append({\n",
    "                        'cause': cause,\n",
    "                        'effect': effect_filled\n",
    "                    })\n",
    "\n",
    "    # Create final DataFrame with only cause and effect\n",
    "    atomic_final_df = pd.DataFrame(atomic_processed, columns=['cause', 'effect'])\n",
    "\n",
    "    # Save to CSV\n",
    "    atomic_final_df.to_csv(output_atomic_csv, index=False)\n",
    "    print(f\"Saved enriched ATOMIC data to {output_atomic_csv}: {atomic_final_df.shape[0]} pairs\")\n",
    "    display(atomic_final_df.head())"
   ]
  },
  {
   "cell_type": "markdown",
   "id": "26e23cd0",
   "metadata": {},
   "source": [
    "## 2. Process Causal News Corpus (CNC) Dataset\n",
    "\n",
    "We will combine train and dev sets for both Subtask 1 (for non-causal examples) and Subtask 2 (for causal examples with spans)."
   ]
  },
  {
   "cell_type": "code",
   "execution_count": 12,
   "id": "4577ee6b",
   "metadata": {},
   "outputs": [
    {
     "name": "stdout",
     "output_type": "stream",
     "text": [
      "Loaded CNC ST1 data: 3415 rows\n",
      "Loaded CNC ST2 data: 3415 rows\n",
      "Saved processed CNC data to /Users/vladislavkalinichenko/VSCodeProjects/SMILES_my_research/implementation/datasets/cnc_causal_pairs.csv: 4107 entries\n"
     ]
    },
    {
     "data": {
      "application/vnd.microsoft.datawrangler.viewer.v0+json": {
       "columns": [
        {
         "name": "index",
         "rawType": "int64",
         "type": "integer"
        },
        {
         "name": "sentence",
         "rawType": "object",
         "type": "string"
        },
        {
         "name": "cause",
         "rawType": "object",
         "type": "string"
        },
        {
         "name": "effect",
         "rawType": "object",
         "type": "string"
        },
        {
         "name": "is_causal",
         "rawType": "int64",
         "type": "integer"
        }
       ],
       "conversionMethod": "pd.DataFrame",
       "ref": "961bc41b-e469-4da7-9738-1ac3c9fb131f",
       "rows": [
        [
         "0",
         "The State alleged they hacked Sabata Petros Chale , 39 , to death in Marikana West , on December 8 , 2016 , allegedly over the allocation of low cost ( RDP ) houses at Marikana West Extension 2 .",
         "the allocation of low cost ( RDP ) houses at Marikana West Extension 2",
         "they hacked Sabata Petros Chale , 39 , to death in Marikana West , on December 8 , 2016",
         "1"
        ],
        [
         "1",
         "The farmworkers ' strike resumed on Tuesday when their demands were not met .",
         "their demands were not met",
         "The farmworkers ' strike resumed on Tuesday",
         "1"
        ],
        [
         "2",
         "Demonstrators have filed for a permit to hold a rally on Saturday in Yuen Long , the district on the outskirts of Hong Kong where dozens of masked men chased and beat commuters and protesters with wooden poles and metal rods , leaving at least 45 people in hospital .",
         "<SIG0>to</SIG0> hold a rally on Saturday in Yuen Long",
         "Demonstrators have filed for a permit",
         "1"
        ],
        [
         "3",
         "Demonstrators have filed for a permit to hold a rally on Saturday in Yuen Long , the district on the outskirts of Hong Kong where dozens of masked men chased and beat commuters and protesters with wooden poles and metal rods , leaving at least 45 people in hospital .",
         "dozens of masked men chased and beat commuters and protesters with wooden poles and metal rods",
         "<SIG0>leaving</SIG0> at least 45 people in hospital",
         "1"
        ],
        [
         "4",
         "Footage of the attack , which included a pregnant woman being hit , protesters being punched and kneed , and commuters screaming and crying while trying to shield themselves , emerged on Sunday night , fuelling further political unrest as demonstrators , opposition lawmakers and others demanded answers from authorities for failing to stop the violence .",
         "Footage of the attack , which included a pregnant woman being hit , protesters being punched and kneed , and commuters screaming and crying while trying to shield themselves , emerged on Sunday night",
         "<SIG0>fuelling</SIG0> further political unrest",
         "1"
        ]
       ],
       "shape": {
        "columns": 4,
        "rows": 5
       }
      },
      "text/html": [
       "<div>\n",
       "<style scoped>\n",
       "    .dataframe tbody tr th:only-of-type {\n",
       "        vertical-align: middle;\n",
       "    }\n",
       "\n",
       "    .dataframe tbody tr th {\n",
       "        vertical-align: top;\n",
       "    }\n",
       "\n",
       "    .dataframe thead th {\n",
       "        text-align: right;\n",
       "    }\n",
       "</style>\n",
       "<table border=\"1\" class=\"dataframe\">\n",
       "  <thead>\n",
       "    <tr style=\"text-align: right;\">\n",
       "      <th></th>\n",
       "      <th>sentence</th>\n",
       "      <th>cause</th>\n",
       "      <th>effect</th>\n",
       "      <th>is_causal</th>\n",
       "    </tr>\n",
       "  </thead>\n",
       "  <tbody>\n",
       "    <tr>\n",
       "      <th>0</th>\n",
       "      <td>The State alleged they hacked Sabata Petros Ch...</td>\n",
       "      <td>the allocation of low cost ( RDP ) houses at M...</td>\n",
       "      <td>they hacked Sabata Petros Chale , 39 , to deat...</td>\n",
       "      <td>1</td>\n",
       "    </tr>\n",
       "    <tr>\n",
       "      <th>1</th>\n",
       "      <td>The farmworkers ' strike resumed on Tuesday wh...</td>\n",
       "      <td>their demands were not met</td>\n",
       "      <td>The farmworkers ' strike resumed on Tuesday</td>\n",
       "      <td>1</td>\n",
       "    </tr>\n",
       "    <tr>\n",
       "      <th>2</th>\n",
       "      <td>Demonstrators have filed for a permit to hold ...</td>\n",
       "      <td>&lt;SIG0&gt;to&lt;/SIG0&gt; hold a rally on Saturday in Yu...</td>\n",
       "      <td>Demonstrators have filed for a permit</td>\n",
       "      <td>1</td>\n",
       "    </tr>\n",
       "    <tr>\n",
       "      <th>3</th>\n",
       "      <td>Demonstrators have filed for a permit to hold ...</td>\n",
       "      <td>dozens of masked men chased and beat commuters...</td>\n",
       "      <td>&lt;SIG0&gt;leaving&lt;/SIG0&gt; at least 45 people in hos...</td>\n",
       "      <td>1</td>\n",
       "    </tr>\n",
       "    <tr>\n",
       "      <th>4</th>\n",
       "      <td>Footage of the attack , which included a pregn...</td>\n",
       "      <td>Footage of the attack , which included a pregn...</td>\n",
       "      <td>&lt;SIG0&gt;fuelling&lt;/SIG0&gt; further political unrest</td>\n",
       "      <td>1</td>\n",
       "    </tr>\n",
       "  </tbody>\n",
       "</table>\n",
       "</div>"
      ],
      "text/plain": [
       "                                            sentence  \\\n",
       "0  The State alleged they hacked Sabata Petros Ch...   \n",
       "1  The farmworkers ' strike resumed on Tuesday wh...   \n",
       "2  Demonstrators have filed for a permit to hold ...   \n",
       "3  Demonstrators have filed for a permit to hold ...   \n",
       "4  Footage of the attack , which included a pregn...   \n",
       "\n",
       "                                               cause  \\\n",
       "0  the allocation of low cost ( RDP ) houses at M...   \n",
       "1                         their demands were not met   \n",
       "2  <SIG0>to</SIG0> hold a rally on Saturday in Yu...   \n",
       "3  dozens of masked men chased and beat commuters...   \n",
       "4  Footage of the attack , which included a pregn...   \n",
       "\n",
       "                                              effect  is_causal  \n",
       "0  they hacked Sabata Petros Chale , 39 , to deat...          1  \n",
       "1        The farmworkers ' strike resumed on Tuesday          1  \n",
       "2              Demonstrators have filed for a permit          1  \n",
       "3  <SIG0>leaving</SIG0> at least 45 people in hos...          1  \n",
       "4     <SIG0>fuelling</SIG0> further political unrest          1  "
      ]
     },
     "metadata": {},
     "output_type": "display_data"
    }
   ],
   "source": [
    "# Load CNC data\n",
    "try:\n",
    "  cnc_st1_train = pd.read_csv(cnc_st1_train_file, index_col=0)\n",
    "  cnc_st1_dev = pd.read_csv(cnc_st1_dev_file, index_col=0)\n",
    "  cnc_st2_train = pd.read_csv(cnc_st2_train_file, index_col=0)\n",
    "  cnc_st2_dev = pd.read_csv(cnc_st2_dev_file, index_col=0)\n",
    "\n",
    "  # Combine train/dev for both subtasks\n",
    "  cnc_st1_df = pd.concat([cnc_st1_train, cnc_st1_dev])\n",
    "  cnc_st2_df = pd.concat([cnc_st2_train, cnc_st2_dev])\n",
    "  print(f\"Loaded CNC ST1 data: {cnc_st1_df.shape[0]} rows\")\n",
    "  print(f\"Loaded CNC ST2 data: {cnc_st2_df.shape[0]} rows\")\n",
    "\n",
    "except FileNotFoundError as e:\n",
    "  print(f\"Error loading CNC files: {e}\")\n",
    "  cnc_st1_df = None\n",
    "  cnc_st2_df = None\n",
    "\n",
    "if cnc_st1_df is not None and cnc_st2_df is not None:\n",
    "  cnc_processed = []\n",
    "\n",
    "  # Helper function to extract cause/effect from a string with <ARG0> and <ARG1> tags\n",
    "  def extract_cause_effect(span_str):\n",
    "    cause = None\n",
    "    effect = None\n",
    "    # Find first <ARG0>...</ARG0>\n",
    "    cause_match = re.search(r'<ARG0>(.*?)</ARG0>', span_str)\n",
    "    if cause_match:\n",
    "      cause = cause_match.group(1).strip()\n",
    "    # Find first <ARG1>...</ARG1>\n",
    "    effect_match = re.search(r'<ARG1>(.*?)</ARG1>', span_str)\n",
    "    if effect_match:\n",
    "      effect = effect_match.group(1).strip()\n",
    "    return cause, effect\n",
    "\n",
    "  # Process Subtask 2 (Causal sentences with spans)\n",
    "  for index, row in cnc_st2_df.iterrows():\n",
    "    sentence = row['text']\n",
    "    pairs_str = row['causal_text_w_pairs']\n",
    "    try:\n",
    "      # Safely evaluate the string representation of the list\n",
    "      pairs_list = ast.literal_eval(pairs_str)\n",
    "      if isinstance(pairs_list, list):\n",
    "        for span_str in pairs_list:\n",
    "          if isinstance(span_str, str):\n",
    "            cause, effect = extract_cause_effect(span_str)\n",
    "            if cause and effect:\n",
    "              cnc_processed.append({\n",
    "                'sentence': sentence,\n",
    "                'cause': cause,\n",
    "                'effect': effect,\n",
    "                'is_causal': 1\n",
    "              })\n",
    "    except (ValueError, SyntaxError, TypeError):\n",
    "      pass\n",
    "\n",
    "  # Process Subtask 1 (Add non-causal sentences as negative examples)\n",
    "  non_causal_st1 = cnc_st1_df[cnc_st1_df['label'] == 0]\n",
    "  for index, row in non_causal_st1.iterrows():\n",
    "    # Check if this sentence index was already processed from ST2 (unlikely but possible)\n",
    "    # This check assumes indices might overlap and have different causality interpretations\n",
    "    # A simpler approach might be to just add all label=0 from ST1.\n",
    "    is_already_added = any(p['sentence'] == row['text'] for p in cnc_processed)\n",
    "    if not is_already_added:\n",
    "      cnc_processed.append({\n",
    "        'sentence': row['text'],\n",
    "        'cause': None, # No cause span for non-causal\n",
    "        'effect': None, # No effect span for non-causal\n",
    "        'is_causal': 0\n",
    "      })\n",
    "\n",
    "  # Create final DataFrame\n",
    "  cnc_final_df = pd.DataFrame(cnc_processed)\n",
    "\n",
    "  # Remove potential duplicates based on sentence, cause, effect\n",
    "  cnc_final_df = cnc_final_df.drop_duplicates()\n",
    "\n",
    "  # Save to CSV\n",
    "  cnc_final_df.to_csv(output_cnc_csv, index=False)\n",
    "  print(f\"Saved processed CNC data to {output_cnc_csv}: {cnc_final_df.shape[0]} entries\")\n",
    "  display(cnc_final_df.head())"
   ]
  },
  {
   "cell_type": "markdown",
   "id": "43b0f97f",
   "metadata": {},
   "source": [
    "## 3. Verification\n",
    "\n",
    "Check the first few lines of the created CSV files."
   ]
  },
  {
   "cell_type": "code",
   "execution_count": 9,
   "id": "56ce6d0f",
   "metadata": {},
   "outputs": [
    {
     "name": "stdout",
     "output_type": "stream",
     "text": [
      "--- First 5 rows of /Users/vladislavkalinichenko/VSCodeProjects/SMILES_my_research/implementation/datasets/atomic_causal_pairs.csv ---\n"
     ]
    },
    {
     "data": {
      "application/vnd.microsoft.datawrangler.viewer.v0+json": {
       "columns": [
        {
         "name": "index",
         "rawType": "int64",
         "type": "integer"
        },
        {
         "name": "cause",
         "rawType": "object",
         "type": "string"
        },
        {
         "name": "effect",
         "rawType": "object",
         "type": "string"
        }
       ],
       "conversionMethod": "pd.DataFrame",
       "ref": "ebc8d1e9-1ad0-48a1-a5b1-cd204ee58ef4",
       "rows": [
        [
         "0",
         "PersonX 'd better go",
         "leaves"
        ],
        [
         "1",
         "PersonX 'd better go",
         "She finally made it"
        ],
        [
         "2",
         "PersonX 'd better go",
         "runs away"
        ],
        [
         "3",
         "PersonX 'd better go",
         "She ran to the bathroom"
        ],
        [
         "4",
         "PersonX abandons ___ altogether",
         "Begins the process of change"
        ]
       ],
       "shape": {
        "columns": 2,
        "rows": 5
       }
      },
      "text/html": [
       "<div>\n",
       "<style scoped>\n",
       "    .dataframe tbody tr th:only-of-type {\n",
       "        vertical-align: middle;\n",
       "    }\n",
       "\n",
       "    .dataframe tbody tr th {\n",
       "        vertical-align: top;\n",
       "    }\n",
       "\n",
       "    .dataframe thead th {\n",
       "        text-align: right;\n",
       "    }\n",
       "</style>\n",
       "<table border=\"1\" class=\"dataframe\">\n",
       "  <thead>\n",
       "    <tr style=\"text-align: right;\">\n",
       "      <th></th>\n",
       "      <th>cause</th>\n",
       "      <th>effect</th>\n",
       "    </tr>\n",
       "  </thead>\n",
       "  <tbody>\n",
       "    <tr>\n",
       "      <th>0</th>\n",
       "      <td>PersonX 'd better go</td>\n",
       "      <td>leaves</td>\n",
       "    </tr>\n",
       "    <tr>\n",
       "      <th>1</th>\n",
       "      <td>PersonX 'd better go</td>\n",
       "      <td>She finally made it</td>\n",
       "    </tr>\n",
       "    <tr>\n",
       "      <th>2</th>\n",
       "      <td>PersonX 'd better go</td>\n",
       "      <td>runs away</td>\n",
       "    </tr>\n",
       "    <tr>\n",
       "      <th>3</th>\n",
       "      <td>PersonX 'd better go</td>\n",
       "      <td>She ran to the bathroom</td>\n",
       "    </tr>\n",
       "    <tr>\n",
       "      <th>4</th>\n",
       "      <td>PersonX abandons ___ altogether</td>\n",
       "      <td>Begins the process of change</td>\n",
       "    </tr>\n",
       "  </tbody>\n",
       "</table>\n",
       "</div>"
      ],
      "text/plain": [
       "                             cause                        effect\n",
       "0             PersonX 'd better go                        leaves\n",
       "1             PersonX 'd better go           She finally made it\n",
       "2             PersonX 'd better go                     runs away\n",
       "3             PersonX 'd better go       She ran to the bathroom\n",
       "4  PersonX abandons ___ altogether  Begins the process of change"
      ]
     },
     "metadata": {},
     "output_type": "display_data"
    },
    {
     "name": "stdout",
     "output_type": "stream",
     "text": [
      "--- First 5 rows of /Users/vladislavkalinichenko/VSCodeProjects/SMILES_my_research/implementation/datasets/cnc_causal_pairs.csv ---\n"
     ]
    },
    {
     "data": {
      "application/vnd.microsoft.datawrangler.viewer.v0+json": {
       "columns": [
        {
         "name": "index",
         "rawType": "int64",
         "type": "integer"
        },
        {
         "name": "sentence",
         "rawType": "object",
         "type": "string"
        },
        {
         "name": "cause",
         "rawType": "float64",
         "type": "float"
        },
        {
         "name": "effect",
         "rawType": "float64",
         "type": "float"
        },
        {
         "name": "is_causal",
         "rawType": "int64",
         "type": "integer"
        }
       ],
       "conversionMethod": "pd.DataFrame",
       "ref": "ac6f3fec-90a1-4a96-b4f1-8b658400a2b7",
       "rows": [
        [
         "0",
         "Chale was allegedly chased by a group of about 30 people and was hacked to death with pangas , axes and spears .",
         null,
         null,
         "0"
        ],
        [
         "1",
         "Max Chung , who delivered the application for a letter of no objection from the police , that is required to hold a rally , said : “ We want to show to the public and international community that Hong Kongers , we will never surrender in front of terrorism … To show our solidarity and say no to terrorism , we have to stand up. ” Chung said : “ Yuen Long was under terrorist attack and we have no choice but to take it back. ” The protests , principally over a controversial bill that would allow suspects to be extradited from Hong Kong to mainland China , have taken on new demands , including an investigation into police use of rubber bullets , teargas and physical violence against protesters .",
         null,
         null,
         "0"
        ],
        [
         "2",
         "On Tuesday evening , unverified footage showed men in white gathering in Tuen Mun , another city near Yuen Long in the New Territories .",
         null,
         null,
         "0"
        ],
        [
         "3",
         "Hong Kong ’ s leader , Carrie Lam , said the “ shocking violence ” in Yuen Long would be investigated , but devoted most of her comments to criticising protesters , who surrounded Beijing ’ s liaison office in Hong Kong and defaced the national emblem of the People ’ s Republic of China on Sunday .",
         null,
         null,
         "0"
        ],
        [
         "4",
         "In Yuen Long , Chung and other protesters are demanding the government conducts an independent investigation and officially characterises the violence as a “ cross-border terrorist attack ” .",
         null,
         null,
         "0"
        ]
       ],
       "shape": {
        "columns": 4,
        "rows": 5
       }
      },
      "text/html": [
       "<div>\n",
       "<style scoped>\n",
       "    .dataframe tbody tr th:only-of-type {\n",
       "        vertical-align: middle;\n",
       "    }\n",
       "\n",
       "    .dataframe tbody tr th {\n",
       "        vertical-align: top;\n",
       "    }\n",
       "\n",
       "    .dataframe thead th {\n",
       "        text-align: right;\n",
       "    }\n",
       "</style>\n",
       "<table border=\"1\" class=\"dataframe\">\n",
       "  <thead>\n",
       "    <tr style=\"text-align: right;\">\n",
       "      <th></th>\n",
       "      <th>sentence</th>\n",
       "      <th>cause</th>\n",
       "      <th>effect</th>\n",
       "      <th>is_causal</th>\n",
       "    </tr>\n",
       "  </thead>\n",
       "  <tbody>\n",
       "    <tr>\n",
       "      <th>0</th>\n",
       "      <td>Chale was allegedly chased by a group of about...</td>\n",
       "      <td>NaN</td>\n",
       "      <td>NaN</td>\n",
       "      <td>0</td>\n",
       "    </tr>\n",
       "    <tr>\n",
       "      <th>1</th>\n",
       "      <td>Max Chung , who delivered the application for ...</td>\n",
       "      <td>NaN</td>\n",
       "      <td>NaN</td>\n",
       "      <td>0</td>\n",
       "    </tr>\n",
       "    <tr>\n",
       "      <th>2</th>\n",
       "      <td>On Tuesday evening , unverified footage showed...</td>\n",
       "      <td>NaN</td>\n",
       "      <td>NaN</td>\n",
       "      <td>0</td>\n",
       "    </tr>\n",
       "    <tr>\n",
       "      <th>3</th>\n",
       "      <td>Hong Kong ’ s leader , Carrie Lam , said the “...</td>\n",
       "      <td>NaN</td>\n",
       "      <td>NaN</td>\n",
       "      <td>0</td>\n",
       "    </tr>\n",
       "    <tr>\n",
       "      <th>4</th>\n",
       "      <td>In Yuen Long , Chung and other protesters are ...</td>\n",
       "      <td>NaN</td>\n",
       "      <td>NaN</td>\n",
       "      <td>0</td>\n",
       "    </tr>\n",
       "  </tbody>\n",
       "</table>\n",
       "</div>"
      ],
      "text/plain": [
       "                                            sentence  cause  effect  is_causal\n",
       "0  Chale was allegedly chased by a group of about...    NaN     NaN          0\n",
       "1  Max Chung , who delivered the application for ...    NaN     NaN          0\n",
       "2  On Tuesday evening , unverified footage showed...    NaN     NaN          0\n",
       "3  Hong Kong ’ s leader , Carrie Lam , said the “...    NaN     NaN          0\n",
       "4  In Yuen Long , Chung and other protesters are ...    NaN     NaN          0"
      ]
     },
     "metadata": {},
     "output_type": "display_data"
    }
   ],
   "source": [
    "print(f\"--- First 5 rows of {output_atomic_csv} ---\")\n",
    "try:\n",
    "  display(pd.read_csv(output_atomic_csv).head())\n",
    "except FileNotFoundError:\n",
    "  print(\"File not found.\")\n",
    "\n",
    "print(f\"--- First 5 rows of {output_cnc_csv} ---\")\n",
    "try:\n",
    "  display(pd.read_csv(output_cnc_csv).head())\n",
    "except FileNotFoundError:\n",
    "  print(\"File not found.\")"
   ]
  }
 ],
 "metadata": {
  "kernelspec": {
   "display_name": ".venv",
   "language": "python",
   "name": "python3"
  },
  "language_info": {
   "codemirror_mode": {
    "name": "ipython",
    "version": 3
   },
   "file_extension": ".py",
   "mimetype": "text/x-python",
   "name": "python",
   "nbconvert_exporter": "python",
   "pygments_lexer": "ipython3",
   "version": "3.12.1"
  }
 },
 "nbformat": 4,
 "nbformat_minor": 5
}
