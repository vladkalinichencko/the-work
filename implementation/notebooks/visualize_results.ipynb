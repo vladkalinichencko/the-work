{
 "cells": [
 {
  "cell_type": "markdown",
  "id": "3fc781cc",
  "metadata": {},
  "source": [
  "# Visualization of Training Results\n",
  "\n",
  "Этот ноутбук загружает и визуализирует метрики обучения и результаты сравнения моделей GPT-2 и Causal-GPT-2."
  ]
 },
 {
  "cell_type": "code",
  "execution_count": null,
  "id": "6cffa608",
  "metadata": {},
  "outputs": [],
  "source": [
  "# Импорты\n",
  "import os\n",
  "import matplotlib.pyplot as plt\n",
  "from PIL import Image"
  ]
 },
 {
  "cell_type": "code",
  "execution_count": null,
  "id": "a2537221",
  "metadata": {},
  "outputs": [],
  "source": [
  "# Путь к папке evaluation\n",
  "eval_dir = os.path.join(os.path.dirname(os.getcwd()), 'evaluation')\n",
  "metrics_path = os.path.join(eval_dir, 'metrics.txt')\n",
  "loss_img_path = os.path.join(eval_dir, 'train_loss_comparison.png')\n",
  "\n",
  "# Вывод содержимого metrics.txt\n",
  "print(\"=== Metrics ===\")\n",
  "with open(metrics_path, 'r') as f:\n",
  "  print(f.read())"
  ]
 },
 {
  "cell_type": "code",
  "execution_count": null,
  "id": "0e35aa5b",
  "metadata": {},
  "outputs": [],
  "source": [
  "# Отображение графика кривых обучения\n",
  "print(\"=== Training Loss Curves ===\")\n",
  "img = Image.open(loss_img_path)\n",
  "plt.figure(figsize=(8,6))\n",
  "plt.imshow(img)\n",
  "plt.axis('off')\n",
  "plt.show()"
  ]
 },
 {
  "cell_type": "markdown",
  "id": "3eb5c955",
  "metadata": {},
  "source": [
  "## Вывод\n",
  "\n",
  "- `metrics.txt` содержит сравнение валидационных потерь и perplexity для обеих моделей.\n",
  "- График `train_loss_comparison.png` демонстрирует скорость сходимости стандартной GPT-2 и модели с каузальным вниманием.\n",
  "\n",
  "Дальнейшие шаги:\n",
  "1. Перейти к оценке качественных метрик (perplexity на большем корпусе, downstream-задачи).\n",
  "2. Добавить визуализацию эмбеддингов из `causal_embeddings.ipynb` (t-SNE/UMAP).\n",
  "3. Сравнить генерацию текстов вручную."
  ]
 },
 {
  "cell_type": "code",
  "execution_count": null,
  "id": "e7389354",
  "metadata": {},
  "outputs": [],
  "source": [
  "# t-SNE и UMAP визуализация эмбеддингов причин и следствий\n",
  "import torch\n",
  "import random\n",
  "import numpy as np\n",
  "from datasets import load_dataset\n",
  "from transformers import AutoTokenizer, AutoModel\n",
  "from implementation.notebooks.causal_embeddings import CausalEmbeddingModel\n",
  "from sklearn.manifold import TSNE\n",
  "import umap\n",
  "import matplotlib.pyplot as plt\n",
  "\n",
  "# Параметры\n",
  "model_name = 'sentence-transformers/all-MiniLM-L6-v2'\n",
  "torch_device = torch.device('cuda' if torch.cuda.is_available() else 'cpu')\n",
  "\n",
  "# Загружаем обученную модель\n",
  "tokenizer = AutoTokenizer.from_pretrained(model_name)\n",
  "base_model = AutoModel.from_pretrained(model_name)\n",
  "causal_model = CausalEmbeddingModel(base_model).to(torch_device)\n",
  "# загрузка весов (измените путь при необходимости)\n",
  "# causal_model.load_state_dict(torch.load('../models/causal_emb.pth'))\n",
  "causal_model.eval()\n",
  "\n",
  "# Берём случайные 100 пар из BECAUSE 2.0\n",
  "dataset = load_dataset('causal_bank', split='train[:100]')\n",
  "pairs = [(ex['cause'], ex['effect']) for ex in dataset]\n",
  "sample = random.sample(pairs, k=50)\n",
  "\n",
  "# Функция для вычисления эмбеддинга\n",
  "@torch.no_grad()\n",
  "def embed(text):\n",
  "  enc = tokenizer(text, truncation=True, padding='max_length', max_length=64, return_tensors='pt').to(torch_device)\n",
  "  emb = causal_model(enc['input_ids'], enc['attention_mask'])\n",
  "  return emb.cpu().numpy()\n",
  "\n",
  "# Вычисляем эмбеддинги\n",
  "emb_c = np.vstack([embed(c) for c,_ in sample])\n",
  "emb_e = np.vstack([embed(e) for _,e in sample])\n",
  "X = np.vstack([emb_c, emb_e])\n",
  "labels = ['cause']*len(emb_c) + ['effect']*len(emb_e)\n",
  "\n",
  "# t-SNE\n",
  "tsne = TSNE(n_components=2, random_state=42)\n",
  "X_tsne = tsne.fit_transform(X)\n",
  "# UMAP\n",
  "um = umap.UMAP(n_components=2, random_state=42)\n",
  "X_umap = um.fit_transform(X)\n",
  "\n",
  "# Отображение\n",
  "fig, axes = plt.subplots(1,2, figsize=(12,5))\n",
  "for ax, coords, title in zip(axes, [X_tsne, X_umap], ['t-SNE', 'UMAP']):\n",
  "  for lbl, color in [('cause','blue'),('effect','orange')]:\n",
  "    idx = [i for i,l in enumerate(labels) if l==lbl]\n",
  "    ax.scatter(coords[idx,0], coords[idx,1], label=lbl, alpha=0.7)\n",
  "  ax.set_title(title)\n",
  "  ax.legend()\n",
  "plt.tight_layout()\n",
  "plt.show()"
  ]
 }
 ],
 "metadata": {
 "kernelspec": {
  "display_name": ".venv",
  "language": "python",
  "name": "python3"
 },
 "language_info": {
  "name": "python",
  "version": "3.12.1"
 }
 },
 "nbformat": 4,
 "nbformat_minor": 5
}
